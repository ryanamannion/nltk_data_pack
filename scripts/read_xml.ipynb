{
 "cells": [
  {
   "cell_type": "code",
   "id": "initial_id",
   "metadata": {
    "collapsed": true,
    "ExecuteTime": {
     "end_time": "2025-08-29T01:43:27.362198Z",
     "start_time": "2025-08-29T01:43:27.358796Z"
    }
   },
   "source": [
    "from xml.etree import ElementTree\n",
    "\n",
    "path = \"../nltk_data/index.xml\""
   ],
   "outputs": [],
   "execution_count": 1
  },
  {
   "metadata": {
    "ExecuteTime": {
     "end_time": "2025-08-29T01:43:27.408217Z",
     "start_time": "2025-08-29T01:43:27.403417Z"
    }
   },
   "cell_type": "code",
   "source": [
    "root = ElementTree.parse(path).getroot()\n",
    "packages = [p for p in root.find(\"packages\")]"
   ],
   "id": "1b9375c69b0aa5e8",
   "outputs": [],
   "execution_count": 2
  },
  {
   "metadata": {
    "ExecuteTime": {
     "end_time": "2025-08-29T01:43:27.453373Z",
     "start_time": "2025-08-29T01:43:27.451283Z"
    }
   },
   "cell_type": "code",
   "source": "print(f\"Found {len(packages)} packages\")",
   "id": "f4610ee1c5f27bc2",
   "outputs": [
    {
     "name": "stdout",
     "output_type": "stream",
     "text": [
      "Found 121 packages\n"
     ]
    }
   ],
   "execution_count": 3
  },
  {
   "metadata": {
    "ExecuteTime": {
     "end_time": "2025-08-29T01:43:27.500323Z",
     "start_time": "2025-08-29T01:43:27.496512Z"
    }
   },
   "cell_type": "code",
   "source": [
    "package = packages[0]\n",
    "package.attrib"
   ],
   "id": "79c99ef3a50bcc8f",
   "outputs": [
    {
     "data": {
      "text/plain": [
       "{'id': 'abc',\n",
       " 'name': 'Australian Broadcasting Commission 2006',\n",
       " 'webpage': 'http://www.abc.net.au/',\n",
       " 'author': 'Australian Broadcasting Commission',\n",
       " 'unzip': '1',\n",
       " 'unzipped_size': '4054966',\n",
       " 'size': '1487851',\n",
       " 'checksum': 'ffb36b67ff24cbf7daaf171c897eb904',\n",
       " 'subdir': 'corpora',\n",
       " 'url': 'https://raw.githubusercontent.com/nltk/nltk_data/gh-pages/packages/corpora/abc.zip'}"
      ]
     },
     "execution_count": 4,
     "metadata": {},
     "output_type": "execute_result"
    }
   ],
   "execution_count": 4
  },
  {
   "metadata": {
    "ExecuteTime": {
     "end_time": "2025-08-29T01:50:16.322835Z",
     "start_time": "2025-08-29T01:50:16.319745Z"
    }
   },
   "cell_type": "code",
   "source": [
    "from collections import Counter, defaultdict\n",
    "\n",
    "keys_types = defaultdict(Counter)\n",
    "keys_vals = defaultdict(set)\n",
    "for package in packages:\n",
    "    for k, v in package.attrib.items():\n",
    "        keys_types[k].update([type(v).__name__])\n",
    "        keys_vals[k].update([v])"
   ],
   "id": "e9f110a6765565b6",
   "outputs": [],
   "execution_count": 11
  },
  {
   "metadata": {
    "ExecuteTime": {
     "end_time": "2025-08-29T01:44:57.698138Z",
     "start_time": "2025-08-29T01:44:57.695249Z"
    }
   },
   "cell_type": "code",
   "source": "keys_types",
   "id": "a6ed7f9e9fcf3ed0",
   "outputs": [
    {
     "data": {
      "text/plain": [
       "defaultdict(collections.Counter,\n",
       "            {'id': Counter({'str': 121}),\n",
       "             'name': Counter({'str': 121}),\n",
       "             'webpage': Counter({'str': 92}),\n",
       "             'author': Counter({'str': 48}),\n",
       "             'unzip': Counter({'str': 121}),\n",
       "             'unzipped_size': Counter({'str': 121}),\n",
       "             'size': Counter({'str': 121}),\n",
       "             'checksum': Counter({'str': 121}),\n",
       "             'subdir': Counter({'str': 121}),\n",
       "             'url': Counter({'str': 121}),\n",
       "             'contact': Counter({'str': 8}),\n",
       "             'license': Counter({'str': 83}),\n",
       "             'languages': Counter({'str': 19}),\n",
       "             'copyright': Counter({'str': 38}),\n",
       "             'note': Counter({'str': 3}),\n",
       "             'licenseurl': Counter({'str': 8}),\n",
       "             'sample': Counter({'str': 6}),\n",
       "             'version': Counter({'str': 10}),\n",
       "             'description': Counter({'str': 1}),\n",
       "             'available': Counter({'str': 1})})"
      ]
     },
     "execution_count": 8,
     "metadata": {},
     "output_type": "execute_result"
    }
   ],
   "execution_count": 8
  },
  {
   "metadata": {
    "ExecuteTime": {
     "end_time": "2025-08-29T01:50:49.703875Z",
     "start_time": "2025-08-29T01:50:49.701527Z"
    }
   },
   "cell_type": "code",
   "source": "len(keys_types)",
   "id": "cd294d9eaa0bbde2",
   "outputs": [
    {
     "data": {
      "text/plain": [
       "20"
      ]
     },
     "execution_count": 13,
     "metadata": {},
     "output_type": "execute_result"
    }
   ],
   "execution_count": 13
  }
 ],
 "metadata": {
  "kernelspec": {
   "display_name": "Python 3",
   "language": "python",
   "name": "python3"
  },
  "language_info": {
   "codemirror_mode": {
    "name": "ipython",
    "version": 2
   },
   "file_extension": ".py",
   "mimetype": "text/x-python",
   "name": "python",
   "nbconvert_exporter": "python",
   "pygments_lexer": "ipython2",
   "version": "2.7.6"
  }
 },
 "nbformat": 4,
 "nbformat_minor": 5
}
